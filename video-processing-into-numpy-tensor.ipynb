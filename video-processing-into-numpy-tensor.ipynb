{
 "cells": [
  {
   "cell_type": "code",
   "execution_count": 1,
   "id": "e4361776",
   "metadata": {
    "_cell_guid": "b1076dfc-b9ad-4769-8c92-a6c4dae69d19",
    "_uuid": "8f2839f25d086af736a60e9eeb907d3b93b6e0e5",
    "execution": {
     "iopub.execute_input": "2024-11-16T12:30:28.568133Z",
     "iopub.status.busy": "2024-11-16T12:30:28.567662Z",
     "iopub.status.idle": "2024-11-16T12:30:29.446297Z",
     "shell.execute_reply": "2024-11-16T12:30:29.445205Z"
    },
    "papermill": {
     "duration": 0.885779,
     "end_time": "2024-11-16T12:30:29.449129",
     "exception": false,
     "start_time": "2024-11-16T12:30:28.563350",
     "status": "completed"
    },
    "tags": []
   },
   "outputs": [],
   "source": [
    "# This Python 3 environment comes with many helpful analytics libraries installed\n",
    "# It is defined by the kaggle/python Docker image: https://github.com/kaggle/docker-python\n",
    "# For example, here's several helpful packages to load\n",
    "\n",
    "import numpy as np # linear algebra\n",
    "import pandas as pd # data processing, CSV file I/O (e.g. pd.read_csv)\n",
    "\n",
    "# Input data files are available in the read-only \"../input/\" directory\n",
    "# For example, running this (by clicking run or pressing Shift+Enter) will list all files under the input directory\n",
    "\n",
    "import os\n",
    "for dirname, _, filenames in os.walk('/kaggle/input'):\n",
    "    for filename in filenames:\n",
    "        print(os.path.join(dirname, filename))\n",
    "\n",
    "# You can write up to 20GB to the current directory (/kaggle/working/) that gets preserved as output when you create a version using \"Save & Run All\" \n",
    "# You can also write temporary files to /kaggle/temp/, but they won't be saved outside of the current session"
   ]
  },
  {
   "cell_type": "code",
   "execution_count": 2,
   "id": "c16153a3",
   "metadata": {
    "execution": {
     "iopub.execute_input": "2024-11-16T12:30:29.455586Z",
     "iopub.status.busy": "2024-11-16T12:30:29.454995Z",
     "iopub.status.idle": "2024-11-16T12:30:30.128951Z",
     "shell.execute_reply": "2024-11-16T12:30:30.127043Z"
    },
    "papermill": {
     "duration": 0.679596,
     "end_time": "2024-11-16T12:30:30.131138",
     "exception": true,
     "start_time": "2024-11-16T12:30:29.451542",
     "status": "failed"
    },
    "tags": []
   },
   "outputs": [
    {
     "ename": "ModuleNotFoundError",
     "evalue": "No module named 'yt_dlp'",
     "output_type": "error",
     "traceback": [
      "\u001b[0;31m---------------------------------------------------------------------------\u001b[0m",
      "\u001b[0;31mModuleNotFoundError\u001b[0m                       Traceback (most recent call last)",
      "Cell \u001b[0;32mIn[2], line 4\u001b[0m\n\u001b[1;32m      2\u001b[0m \u001b[38;5;28;01mimport\u001b[39;00m \u001b[38;5;21;01mnumpy\u001b[39;00m \u001b[38;5;28;01mas\u001b[39;00m \u001b[38;5;21;01mnp\u001b[39;00m\n\u001b[1;32m      3\u001b[0m \u001b[38;5;28;01mimport\u001b[39;00m \u001b[38;5;21;01mmatplotlib\u001b[39;00m\u001b[38;5;21;01m.\u001b[39;00m\u001b[38;5;21;01mpyplot\u001b[39;00m \u001b[38;5;28;01mas\u001b[39;00m \u001b[38;5;21;01mplt\u001b[39;00m\n\u001b[0;32m----> 4\u001b[0m \u001b[38;5;28;01mimport\u001b[39;00m \u001b[38;5;21;01myt_dlp\u001b[39;00m  \u001b[38;5;66;03m# Required for extracting the video stream URL\u001b[39;00m\n\u001b[1;32m      6\u001b[0m \u001b[38;5;28;01mdef\u001b[39;00m \u001b[38;5;21mfetch_youtube_video_url\u001b[39m(youtube_url):\n\u001b[1;32m      7\u001b[0m \u001b[38;5;250m    \u001b[39m\u001b[38;5;124;03m\"\"\"Use yt-dlp to extract the video stream URL from YouTube.\"\"\"\u001b[39;00m\n",
      "\u001b[0;31mModuleNotFoundError\u001b[0m: No module named 'yt_dlp'"
     ]
    }
   ],
   "source": [
    "import cv2\n",
    "import numpy as np\n",
    "import matplotlib.pyplot as plt\n",
    "import yt_dlp  # Required for extracting the video stream URL\n",
    "\n",
    "def fetch_youtube_video_url(youtube_url):\n",
    "    \"\"\"Use yt-dlp to extract the video stream URL from YouTube.\"\"\"\n",
    "    ydl_opts = {'format': 'best'}  # You can customize the format\n",
    "    with yt_dlp.YoutubeDL(ydl_opts) as ydl:\n",
    "        result = ydl.extract_info(youtube_url, download=False)\n",
    "        video_url = result['formats'][0]['url']  # Get the best available video URL\n",
    "        return video_url\n",
    "\n",
    "def process_video_from_url(video_url):\n",
    "    \"\"\"Process a video stream URL and convert frames into a NumPy tensor.\"\"\"\n",
    "    cap = cv2.VideoCapture(video_url)\n",
    "\n",
    "    if not cap.isOpened():\n",
    "        print(\"Error: Unable to open the video stream.\")\n",
    "        return None\n",
    "\n",
    "    frame_list = []\n",
    "    print(\"Processing video... Press 'q' to stop early.\")\n",
    "\n",
    "    while True:\n",
    "        ret, frame = cap.read()\n",
    "        if not ret:\n",
    "            print(\"End of video or error in reading.\")\n",
    "            break\n",
    "\n",
    "        # Convert the frame to a NumPy array and append it to the list\n",
    "        tensor_frame = np.array(frame)\n",
    "        frame_list.append(tensor_frame)\n",
    "\n",
    "        # Display the current frame using matplotlib\n",
    "        plt.imshow(cv2.cvtColor(frame, cv2.COLOR_BGR2RGB))\n",
    "        plt.axis('off')  # Hide axis\n",
    "        plt.show()\n",
    "\n",
    "        # Stop if 'q' is pressed\n",
    "        # Note: We cannot capture key presses in this mode\n",
    "        # If you want to stop the video early, you need another way to interrupt.\n",
    "\n",
    "    cap.release()\n",
    "\n",
    "    # Convert the list of frames into a 4D NumPy tensor\n",
    "    video_tensor = np.array(frame_list)\n",
    "    print(f\"Video tensor shape: {video_tensor.shape}\")\n",
    "    return video_tensor\n",
    "\n",
    "if __name__ == \"__main__\":\n",
    "    youtube_url = \"https://youtu.be/UGfKMV5AbMI?si=iVvFUTdCyZ6Rokte\"  # Replace with your YouTube video URL\n",
    "    video_url = fetch_youtube_video_url(youtube_url)\n",
    "    if video_url:\n",
    "        video_tensor = process_video_from_url(video_url)\n",
    "        if video_tensor is not None:\n",
    "            print(\"Video successfully processed into a NumPy tensor.\")\n",
    "        else:\n",
    "            print(\"Failed to process the video.\")\n",
    "    else:\n",
    "        print(\"Failed to fetch the video URL.\")\n"
   ]
  }
 ],
 "metadata": {
  "kaggle": {
   "accelerator": "none",
   "dataSources": [],
   "dockerImageVersionId": 30786,
   "isGpuEnabled": false,
   "isInternetEnabled": true,
   "language": "python",
   "sourceType": "notebook"
  },
  "kernelspec": {
   "display_name": "Python 3",
   "language": "python",
   "name": "python3"
  },
  "language_info": {
   "codemirror_mode": {
    "name": "ipython",
    "version": 3
   },
   "file_extension": ".py",
   "mimetype": "text/x-python",
   "name": "python",
   "nbconvert_exporter": "python",
   "pygments_lexer": "ipython3",
   "version": "3.10.14"
  },
  "papermill": {
   "default_parameters": {},
   "duration": 5.577713,
   "end_time": "2024-11-16T12:30:30.755400",
   "environment_variables": {},
   "exception": true,
   "input_path": "__notebook__.ipynb",
   "output_path": "__notebook__.ipynb",
   "parameters": {},
   "start_time": "2024-11-16T12:30:25.177687",
   "version": "2.6.0"
  }
 },
 "nbformat": 4,
 "nbformat_minor": 5
}
